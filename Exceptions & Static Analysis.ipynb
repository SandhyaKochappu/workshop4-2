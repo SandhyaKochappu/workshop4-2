{
 "cells": [
  {
   "cell_type": "code",
   "execution_count": 2,
   "id": "4e2bc1f6",
   "metadata": {},
   "outputs": [
    {
     "name": "stdout",
     "output_type": "stream",
     "text": [
      "Enter an integer: Hello\n"
     ]
    },
    {
     "ename": "ValueError",
     "evalue": "invalid literal for int() with base 10: 'Hello'",
     "output_type": "error",
     "traceback": [
      "\u001b[1;31m---------------------------------------------------------------------------\u001b[0m",
      "\u001b[1;31mValueError\u001b[0m                                Traceback (most recent call last)",
      "Input \u001b[1;32mIn [2]\u001b[0m, in \u001b[0;36m<cell line: 2>\u001b[1;34m()\u001b[0m\n\u001b[0;32m      1\u001b[0m usr_input \u001b[38;5;241m=\u001b[39m \u001b[38;5;28minput\u001b[39m(\u001b[38;5;124m\"\u001b[39m\u001b[38;5;124mEnter an integer: \u001b[39m\u001b[38;5;124m\"\u001b[39m)\n\u001b[1;32m----> 2\u001b[0m inverse \u001b[38;5;241m=\u001b[39m \u001b[38;5;241m1\u001b[39m\u001b[38;5;241m/\u001b[39m\u001b[38;5;28;43mint\u001b[39;49m\u001b[43m(\u001b[49m\u001b[43musr_input\u001b[49m\u001b[43m)\u001b[49m\n\u001b[0;32m      3\u001b[0m \u001b[38;5;28mprint\u001b[39m(inverse)\n",
      "\u001b[1;31mValueError\u001b[0m: invalid literal for int() with base 10: 'Hello'"
     ]
    }
   ],
   "source": [
    "usr_input = input(\"Enter an integer: \")\n",
    "inverse = 1/int(usr_input)\n",
    "print(inverse)"
   ]
  },
  {
   "cell_type": "code",
   "execution_count": 3,
   "id": "fde0d049",
   "metadata": {},
   "outputs": [
    {
     "name": "stdout",
     "output_type": "stream",
     "text": [
      "Enter an integer: hello\n",
      "An error occurred.\n"
     ]
    }
   ],
   "source": [
    "try:\n",
    "    usr_input = input(\"Enter an integer: \")\n",
    "    inverse = 1/int(usr_input)\n",
    "    print(inverse)\n",
    "except:\n",
    "    print(\"An error occurred.\")"
   ]
  },
  {
   "cell_type": "code",
   "execution_count": 6,
   "id": "2cbf86a0",
   "metadata": {},
   "outputs": [
    {
     "name": "stdout",
     "output_type": "stream",
     "text": [
      "Enter a non-zero number: 0\n",
      "The try block attempted to divide by 0\n"
     ]
    }
   ],
   "source": [
    "try:\n",
    "    usr_input = input(\"Enter a non-zero number: \")\n",
    "    inverse = 1/int(usr_input)\n",
    "    print(inverse)\n",
    "except ZeroDivisionError:\n",
    "    print(\"The try block attempted to divide by 0\")\n",
    "except ValueError:\n",
    "    print(\"The try block was unable to cast user input to an int\")\n",
    "except:\n",
    "    print(\"Some other exception occurred\")"
   ]
  },
  {
   "cell_type": "code",
   "execution_count": 9,
   "id": "3306d196",
   "metadata": {},
   "outputs": [
    {
     "name": "stdout",
     "output_type": "stream",
     "text": [
      "Enter an integer: 1\n",
      "1.0\n",
      "No error occurred.\n",
      "block completed.\n"
     ]
    }
   ],
   "source": [
    "try:\n",
    "    usr_input = input(\"Enter an integer: \")\n",
    "    inverse = 1/int(usr_input)\n",
    "    print(inverse)\n",
    "except:\n",
    "    print(\"An error occurred.\")\n",
    "else:\n",
    "    print(\"No error occurred.\")\n",
    "finally:\n",
    "    print(\"block completed.\")\n",
    "    "
   ]
  },
  {
   "cell_type": "code",
   "execution_count": 10,
   "id": "9fbf82c5",
   "metadata": {},
   "outputs": [
    {
     "ename": "Exception",
     "evalue": "variable a must be between 1 and 10",
     "output_type": "error",
     "traceback": [
      "\u001b[1;31m---------------------------------------------------------------------------\u001b[0m",
      "\u001b[1;31mException\u001b[0m                                 Traceback (most recent call last)",
      "Input \u001b[1;32mIn [10]\u001b[0m, in \u001b[0;36m<cell line: 3>\u001b[1;34m()\u001b[0m\n\u001b[0;32m      1\u001b[0m a \u001b[38;5;241m=\u001b[39m \u001b[38;5;241m0\u001b[39m\n\u001b[0;32m      3\u001b[0m \u001b[38;5;28;01mif\u001b[39;00m a \u001b[38;5;241m<\u001b[39m \u001b[38;5;241m1\u001b[39m \u001b[38;5;129;01mor\u001b[39;00m a \u001b[38;5;241m>\u001b[39m \u001b[38;5;241m10\u001b[39m:\n\u001b[1;32m----> 4\u001b[0m     \u001b[38;5;28;01mraise\u001b[39;00m \u001b[38;5;167;01mException\u001b[39;00m(\u001b[38;5;124m\"\u001b[39m\u001b[38;5;124mvariable a must be between 1 and 10\u001b[39m\u001b[38;5;124m\"\u001b[39m)\n",
      "\u001b[1;31mException\u001b[0m: variable a must be between 1 and 10"
     ]
    }
   ],
   "source": [
    "a = 0\n",
    "\n",
    "if a < 1 or a > 10:\n",
    "    raise Exception(\"variable a must be between 1 and 10\")"
   ]
  },
  {
   "cell_type": "code",
   "execution_count": null,
   "id": "bb2ab50e",
   "metadata": {},
   "outputs": [],
   "source": []
  },
  {
   "cell_type": "code",
   "execution_count": 12,
   "id": "cf7208b3",
   "metadata": {},
   "outputs": [
    {
     "name": "stdout",
     "output_type": "stream",
     "text": [
      "Note: you may need to restart the kernel to use updated packages.Requirement already satisfied: pyflakes in c:\\users\\sandhya\\anaconda3_latest\\lib\\site-packages (2.3.1)\n",
      "\n",
      "Collecting pyflakes\n",
      "  Downloading pyflakes-2.4.0-py2.py3-none-any.whl (69 kB)\n",
      "Installing collected packages: pyflakes\n",
      "  Attempting uninstall: pyflakes\n",
      "    Found existing installation: pyflakes 2.3.1\n",
      "    Uninstalling pyflakes-2.3.1:\n",
      "      Successfully uninstalled pyflakes-2.3.1\n",
      "Successfully installed pyflakes-2.4.0\n"
     ]
    },
    {
     "name": "stderr",
     "output_type": "stream",
     "text": [
      "ERROR: pip's dependency resolver does not currently take into account all the packages that are installed. This behaviour is the source of the following dependency conflicts.\n",
      "flake8 3.9.2 requires pyflakes<2.4.0,>=2.3.0, but you have pyflakes 2.4.0 which is incompatible.\n"
     ]
    }
   ],
   "source": [
    "pip install --upgrade pyflakes\n"
   ]
  },
  {
   "cell_type": "code",
   "execution_count": 1,
   "id": "1503babf",
   "metadata": {},
   "outputs": [
    {
     "ename": "NameError",
     "evalue": "name 'pyflakes' is not defined",
     "output_type": "error",
     "traceback": [
      "\u001b[1;31m---------------------------------------------------------------------------\u001b[0m",
      "\u001b[1;31mNameError\u001b[0m                                 Traceback (most recent call last)",
      "Input \u001b[1;32mIn [1]\u001b[0m, in \u001b[0;36m<cell line: 1>\u001b[1;34m()\u001b[0m\n\u001b[1;32m----> 1\u001b[0m \u001b[43mpyflakes\u001b[49m \u001b[38;5;241m-\u001b[39m\u001b[38;5;241m-\u001b[39mversion\n",
      "\u001b[1;31mNameError\u001b[0m: name 'pyflakes' is not defined"
     ]
    }
   ],
   "source": [
    "pyflakes --version\n"
   ]
  },
  {
   "cell_type": "code",
   "execution_count": 2,
   "id": "6fc8e32a",
   "metadata": {},
   "outputs": [
    {
     "ename": "SyntaxError",
     "evalue": "invalid syntax (3225377899.py, line 1)",
     "output_type": "error",
     "traceback": [
      "\u001b[1;36m  Input \u001b[1;32mIn [2]\u001b[1;36m\u001b[0m\n\u001b[1;33m    pip3 install pyflakes\u001b[0m\n\u001b[1;37m         ^\u001b[0m\n\u001b[1;31mSyntaxError\u001b[0m\u001b[1;31m:\u001b[0m invalid syntax\n"
     ]
    }
   ],
   "source": [
    "pip3 install pyflakes"
   ]
  },
  {
   "cell_type": "code",
   "execution_count": 4,
   "id": "8dc4fcea",
   "metadata": {},
   "outputs": [
    {
     "ename": "SyntaxError",
     "evalue": "invalid syntax (311930637.py, line 1)",
     "output_type": "error",
     "traceback": [
      "\u001b[1;36m  Input \u001b[1;32mIn [4]\u001b[1;36m\u001b[0m\n\u001b[1;33m    python2 -m pyflakes\u001b[0m\n\u001b[1;37m               ^\u001b[0m\n\u001b[1;31mSyntaxError\u001b[0m\u001b[1;31m:\u001b[0m invalid syntax\n"
     ]
    }
   ],
   "source": [
    "python2 -m pyflakes"
   ]
  }
 ],
 "metadata": {
  "kernelspec": {
   "display_name": "Python 3 (ipykernel)",
   "language": "python",
   "name": "python3"
  },
  "language_info": {
   "codemirror_mode": {
    "name": "ipython",
    "version": 3
   },
   "file_extension": ".py",
   "mimetype": "text/x-python",
   "name": "python",
   "nbconvert_exporter": "python",
   "pygments_lexer": "ipython3",
   "version": "3.9.12"
  }
 },
 "nbformat": 4,
 "nbformat_minor": 5
}
